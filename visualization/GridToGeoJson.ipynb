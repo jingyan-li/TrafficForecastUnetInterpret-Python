{
 "cells": [
  {
   "cell_type": "code",
   "execution_count": 1,
   "id": "0a6974a4",
   "metadata": {},
   "outputs": [
    {
     "name": "stdout",
     "output_type": "stream",
     "text": [
      "xMin 13.183 - xMax 13.631 - yMin 52.351 - yMax 52.863\n"
     ]
    }
   ],
   "source": [
    "import geopandas as gpd\n",
    "from shapely.geometry import Polygon\n",
    "import numpy as np\n",
    "# Bounding box\n",
    "yMin = 52.359\n",
    "yMax = 52.854\n",
    "xMin = 13.189\n",
    "xMax = 13.625\n",
    "\n",
    "step = 0.001\n",
    "padding = [6,6,8,9]\n",
    "\n",
    "xMin = xMin-padding[0]*step\n",
    "xMax = xMax+padding[1]*step\n",
    "yMin = yMin-padding[2]*step\n",
    "yMax = yMax+padding[3]*step\n",
    "\n",
    "print(f\"xMin {xMin} - xMax {xMax} - yMin {yMin} - yMax {yMax}\")\n",
    "\n",
    "windowsize = 21\n",
    "\n",
    "\n",
    "cols = np.arange(xMin,xMax+step,step) # Lon\n",
    "rows = np.arange(yMin,yMax+step,step)[::-1] # Lat\n",
    "\n",
    "pool_lons = cols[::windowsize]\n",
    "pool_lats = rows[::windowsize]\n",
    "\n",
    "polygons = []\n",
    "lats = []\n",
    "lons = []\n",
    "for i in range(len(pool_lons)):\n",
    "    for j in range(len(pool_lats)):\n",
    "        x_left = pool_lons[i]\n",
    "        y_up = pool_lats[j]\n",
    "        x_right = cols[-1] if i==pool_lons.shape[0]-1 else pool_lons[i+1]\n",
    "        y_bot = rows[-1] if j==pool_lats.shape[0]-1 else pool_lats[j+1]\n",
    "        polygons.append(Polygon([(x_left,y_up), (x_right, y_up), (x_right,y_bot),(x_left, y_bot)]))\n",
    "        lats.append(j)\n",
    "        lons.append(i)\n",
    "grid = gpd.GeoDataFrame({\n",
    "    'geometry':polygons,\n",
    "    'x': lons,\n",
    "    'y': lats,\n",
    "},crs=\"EPSG:4326\")"
   ]
  },
  {
   "cell_type": "code",
   "execution_count": 16,
   "id": "0d6ad4d8",
   "metadata": {},
   "outputs": [],
   "source": [
    "data = grid.to_json(show_bbox=True, na=\"drop\")\n",
    "with open(\"grid.geo.json\",\"w\") as f:\n",
    "    f.writelines(data)"
   ]
  },
  {
   "cell_type": "code",
   "execution_count": 18,
   "id": "dadf0d76",
   "metadata": {},
   "outputs": [
    {
     "data": {
      "text/plain": [
       "array([13.456, 13.477])"
      ]
     },
     "execution_count": 18,
     "metadata": {},
     "output_type": "execute_result"
    }
   ],
   "source": [
    "x = 13\n",
    "pool_cols[x:x+2]  # x"
   ]
  },
  {
   "cell_type": "code",
   "execution_count": 19,
   "id": "2cd90776",
   "metadata": {},
   "outputs": [
    {
     "data": {
      "text/plain": [
       "array([52.758, 52.737])"
      ]
     },
     "execution_count": 19,
     "metadata": {},
     "output_type": "execute_result"
    }
   ],
   "source": [
    "y = 5\n",
    "pool_rows[y:y+2]  # y"
   ]
  },
  {
   "cell_type": "code",
   "execution_count": 17,
   "id": "bb5ebc8b",
   "metadata": {},
   "outputs": [
    {
     "data": {
      "text/plain": [
       "330    POLYGON ((13.45600 52.75800, 13.47700 52.75800...\n",
       "Name: geometry, dtype: geometry"
      ]
     },
     "execution_count": 17,
     "metadata": {},
     "output_type": "execute_result"
    }
   ],
   "source": [
    "grid[(grid['x']==13) & (grid['y']==5)].geometry"
   ]
  },
  {
   "cell_type": "code",
   "execution_count": 8,
   "id": "dd71d1de",
   "metadata": {},
   "outputs": [],
   "source": [
    "# Save a part of polygons\n",
    "import os\n",
    "FILE_PATH = r\"C:\\Users\\jingyli\\OwnDrive\\IPA\\web_json\"\n",
    "\n",
    "x_center = 12\n",
    "y_center = 12\n",
    "\n",
    "# x_list = np.arange(x_center-1,x_center+2)\n",
    "# y_list = np.arange(y_center-1,y_center+2)\n",
    "x_list = [x_center]\n",
    "y_list = [y_center]\n",
    "single_polygons = []\n",
    "xs = []\n",
    "ys = []\n",
    "for i in x_list:\n",
    "    for j in y_list:\n",
    "        x_left = pool_lons[i]\n",
    "        y_up = pool_lats[j]\n",
    "        x_right = cols[-1] if i==pool_lons.shape[0]-1 else pool_lons[i+1]\n",
    "        y_bot = rows[-1] if j==pool_lats.shape[0]-1 else pool_lats[j+1]\n",
    "\n",
    "        single_polygons.append(Polygon([(x_left,y_up), (x_right, y_up), (x_right,y_bot),(x_left, y_bot)]))\n",
    "        xs.append(i)\n",
    "        ys.append(j)\n",
    "        \n",
    "grid = gpd.GeoDataFrame({\n",
    "    'geometry':single_polygons,\n",
    "    'x': xs,\n",
    "    'y': ys,\n",
    "},crs=\"EPSG:4326\")\n",
    "data = grid.to_json(show_bbox=True, na=\"drop\")\n",
    "with open(os.path.join(FILE_PATH,f\"{y_center}-{x_center}.geo.json\"),\"w\") as f:\n",
    "    f.writelines(data)"
   ]
  },
  {
   "cell_type": "code",
   "execution_count": null,
   "id": "1d885036",
   "metadata": {},
   "outputs": [],
   "source": []
  }
 ],
 "metadata": {
  "kernelspec": {
   "display_name": "Python [conda env:Geoprocessing]",
   "language": "python",
   "name": "conda-env-Geoprocessing-py"
  },
  "language_info": {
   "codemirror_mode": {
    "name": "ipython",
    "version": 3
   },
   "file_extension": ".py",
   "mimetype": "text/x-python",
   "name": "python",
   "nbconvert_exporter": "python",
   "pygments_lexer": "ipython3",
   "version": "3.6.10"
  }
 },
 "nbformat": 4,
 "nbformat_minor": 5
}
