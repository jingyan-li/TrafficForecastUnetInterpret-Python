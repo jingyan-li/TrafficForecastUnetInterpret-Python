{
 "cells": [
  {
   "cell_type": "code",
   "execution_count": 2,
   "id": "fda8a08c",
   "metadata": {},
   "outputs": [],
   "source": [
    "import numpy as np\n",
    "import matplotlib.pyplot as plt\n",
    "import os\n",
    "\n",
    "import sys\n",
    "module_path = os.path.abspath(os.path.join('..'))\n",
    "if module_path not in sys.path:\n",
    "    sys.path.append(module_path)"
   ]
  },
  {
   "cell_type": "code",
   "execution_count": 5,
   "id": "151b336f",
   "metadata": {},
   "outputs": [],
   "source": [
    "window = [16, 10]\n",
    "loc_type = \"urban\"\n",
    "day_dict = {\n",
    "    \"weekday\": ['2019-07-01', '2019-07-11', '2019-07-31', '2019-08-20', '2019-08-30', '2019-09-09', '2019-09-19', '2019-10-09', '2019-10-29', '2019-11-08', '2019-11-18', '2019-11-28', '2019-12-18']\n",
    "    \"weekend\": ['2019-07-21', '2019-08-10', '2019-09-29', '2019-10-19', '2019-12-08']}\n",
    "\n",
    "\n",
    "time = {\n",
    "    84:\"7AM-8AM\",\n",
    "    132:\"11AM-12PM\",\n",
    "    204:\"5PM-6PM\",\n",
    "    264:\"10PM-11PM\"\n",
    "}\n",
    "channels = [0,1]\n",
    "channel_dict = {\n",
    "    0: \"volume\",\n",
    "    1: \"speed\"\n",
    "}\n",
    "\n",
    "for c in channels:\n",
    "    for t, tname in time.items():\n",
    "        dynamic_arr = []\n",
    "        static_arr = []\n",
    "        for dtype, days in day_dict.items():\n",
    "            for date in days:\n",
    "                log_root = f\"../../attribution_Result/unet/attribution_pickle/resUnet/{date}_{t}\"\n",
    "                file_path = f\"{date}_berlin_9ch{t}-saliency-target-channel{c}-W{window[0]}-{window[1]}.npy\"\n",
    "\n",
    "                attr = np.load(os.path.join(log_root, file_path))\n",
    "\n",
    "                agg_channel = np.sum(attr[0].reshape(attr[0].shape[0], -1), axis=1)\n",
    "                # Incident level per time epoch\n",
    "                agg_incident = agg_channel[:108].reshape(12, -1)[:, -1]\n",
    "                # Volume / speed per time epoch\n",
    "                agg_volume_speed = np.sum(agg_channel[:108].reshape(12, -1)[:, :-1].reshape(12, -1, 2), axis=1)/4\n",
    "                # Static features\n",
    "                agg_static = agg_channel[108:]\n",
    "                # Save as npy array\n",
    "                dynamic_arr.append(np.concatenate((agg_volume_speed, agg_incident[:,None]), axis=1))\n",
    "                static_arr.append(agg_static)\n",
    "            \n",
    "            dynamic_arr = np.asarray(dynamic_arr)\n",
    "            static_arr = np.asarray(static_arr)\n",
    "            # Errors\n",
    "            err_dynamic = np.std(dynamic_arr, axis=0)\n",
    "            err_static = np.std(static_arr, axis=0)\n",
    "            # Merge days\n",
    "            dynamic_arr = np.mean(dynamic_arr, axis=0)\n",
    "            static_arr = np.mean(static_arr, axis=0)\n",
    "            \n",
    "            output_path = os.path.join(\"../../attribution_Result/unet/attribution_pickle/resUnet/\", f\"{dtype}_{tname}_{loc_type}_{channel_dict[c]}\")\n",
    "            np.save(output_path+\"_dynamic.npy\", save_arr)\n",
    "            # Save static features\n",
    "            np.save(output_path+\"_static.npy\", agg_static)"
   ]
  },
  {
   "cell_type": "code",
   "execution_count": 10,
   "id": "d9cf604e",
   "metadata": {},
   "outputs": [],
   "source": []
  },
  {
   "cell_type": "code",
   "execution_count": null,
   "id": "64d29945",
   "metadata": {},
   "outputs": [],
   "source": []
  }
 ],
 "metadata": {
  "kernelspec": {
   "display_name": "Python [conda env:ipa-cpu]",
   "language": "python",
   "name": "conda-env-ipa-cpu-py"
  },
  "language_info": {
   "codemirror_mode": {
    "name": "ipython",
    "version": 3
   },
   "file_extension": ".py",
   "mimetype": "text/x-python",
   "name": "python",
   "nbconvert_exporter": "python",
   "pygments_lexer": "ipython3",
   "version": "3.8.12"
  }
 },
 "nbformat": 4,
 "nbformat_minor": 5
}
