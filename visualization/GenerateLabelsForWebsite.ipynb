{
 "cells": [
  {
   "cell_type": "code",
   "execution_count": 1,
   "id": "c1e82b5c",
   "metadata": {},
   "outputs": [],
   "source": [
    "import numpy as np"
   ]
  },
  {
   "cell_type": "code",
   "execution_count": 12,
   "id": "08723671",
   "metadata": {},
   "outputs": [
    {
     "name": "stdout",
     "output_type": "stream",
     "text": [
      "\"22:00\",\"22:05\",\"22:10\",\"22:15\",\"22:20\",\"22:25\",\"22:30\",\"22:35\",\"22:40\",\"22:45\",\"22:50\",\"22:55\"\n"
     ]
    }
   ],
   "source": [
    "startT = 22\n",
    "\n",
    "l = []\n",
    "for i in range(startT,startT+1):\n",
    "    for j in range(12):\n",
    "        l.append(f\"{i:02d}:{j*5:02d}\")\n",
    "        \n",
    "print('\"'+'\",\"'.join(l)+'\"')"
   ]
  },
  {
   "cell_type": "code",
   "execution_count": null,
   "id": "60be38bd",
   "metadata": {},
   "outputs": [],
   "source": []
  }
 ],
 "metadata": {
  "kernelspec": {
   "display_name": "ipa-cpu",
   "language": "python",
   "name": "ipa-cpu"
  },
  "language_info": {
   "codemirror_mode": {
    "name": "ipython",
    "version": 3
   },
   "file_extension": ".py",
   "mimetype": "text/x-python",
   "name": "python",
   "nbconvert_exporter": "python",
   "pygments_lexer": "ipython3",
   "version": "3.8.12"
  }
 },
 "nbformat": 4,
 "nbformat_minor": 5
}
