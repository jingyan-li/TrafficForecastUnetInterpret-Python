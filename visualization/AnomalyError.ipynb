{
 "cells": [
  {
   "cell_type": "code",
   "execution_count": 2,
   "id": "2e5fb6f1",
   "metadata": {},
   "outputs": [],
   "source": [
    "import numpy as np\n",
    "import matplotlib.pyplot as plt\n",
    "import os\n",
    "\n",
    "NPY_DIR = r\"C:\\Users\\jingyli\\OwnDrive\\IPA\\attribution_Result\\unet\\attribution_pickle\\resUnet\""
   ]
  },
  {
   "cell_type": "markdown",
   "id": "1ca5ce4b",
   "metadata": {},
   "source": [
    "# Anomalies\n",
    "\n",
    "\n",
    "### Calculate Daily MSE curve & SE curve for anomaly grid"
   ]
  },
  {
   "cell_type": "code",
   "execution_count": 64,
   "id": "f6c08102",
   "metadata": {},
   "outputs": [
    {
     "name": "stderr",
     "output_type": "stream",
     "text": [
      "<ipython-input-64-34d4b0bf77ee>:17: RuntimeWarning: divide by zero encountered in double_scalars\n",
      "  relative_err = np.absolute(err[coords] / gt)\n",
      "<ipython-input-64-34d4b0bf77ee>:18: RuntimeWarning: divide by zero encountered in true_divide\n",
      "  mse = np.sqrt(np.mean(np.power(err / (pred+err), 2)))\n",
      "<ipython-input-64-34d4b0bf77ee>:18: RuntimeWarning: invalid value encountered in true_divide\n",
      "  mse = np.sqrt(np.mean(np.power(err / (pred+err), 2)))\n"
     ]
    }
   ],
   "source": [
    "date = \"2019-09-19\"\n",
    "anomaly_grid = (184,346)\n",
    "times = np.arange(0,273,3)\n",
    "# Overall MSE\n",
    "speed_mse = []\n",
    "vol_mse = []\n",
    "# Relative Error for anomaly cell\n",
    "c_speed_err = []\n",
    "c_vol_err = []\n",
    "# Predictions\n",
    "speed = []\n",
    "vol = []\n",
    "\n",
    "\n",
    "def get_result(err, pred, coords):\n",
    "    gt = pred[coords] + err[coords]\n",
    "    relative_err = np.absolute(err[coords] / gt)\n",
    "    mse = np.sqrt(np.mean(np.power(err / (pred+err), 2)))\n",
    "    \n",
    "    return gt, relative_err, mse\n",
    "\n",
    "\n",
    "for time in times:\n",
    "    result_path = f\"{date}_berlin_9ch{time}-err-pred.npy\"\n",
    "    result = np.load(os.path.join(NPY_DIR, f\"{date}_{time}\", result_path))\n",
    "    # Volume\n",
    "    gt, re, mse = get_result(result[2], result[0], anomaly_grid)\n",
    "    vol_mse.append(mse)\n",
    "    c_vol_err.append(re)\n",
    "    vol.append(gt)\n",
    "    # Speed\n",
    "    gt, re, mse = get_result(result[3], result[1], anomaly_grid)\n",
    "    speed_mse.append(mse)\n",
    "    c_speed_err.append(re)\n",
    "    speed.append(gt)"
   ]
  },
  {
   "cell_type": "code",
   "execution_count": 65,
   "id": "ca057809",
   "metadata": {},
   "outputs": [
    {
     "data": {
      "image/png": "[encoded data removed]",
      "text/plain": [
       "<Figure size 1080x288 with 3 Axes>"
      ]
     },
     "metadata": {
      "needs_background": "light"
     },
     "output_type": "display_data"
    }
   ],
   "source": [
    "# Visualize \n",
    "fig, axes = plt.subplots(nrows=1, ncols=3, figsize=(15,4))\n",
    "xticks = np.arange(0,times.shape[0],8)\n",
    "xticklabels = xticks//4\n",
    "# Volume\n",
    "axes[0].set_title(\"Volume\")\n",
    "ax = axes[0]\n",
    "ax.plot(vol_mse, label=\"MSE\")\n",
    "ax.plot(c_vol_err, label=\"Relative error anomaly grid\")\n",
    "ax.set_ylim(0,3)\n",
    "\n",
    "# Speed\n",
    "axes[1].set_title(\"Speed\")\n",
    "ax = axes[1]\n",
    "ax.plot(speed_mse, label=\"MSE\")\n",
    "ax.plot(c_speed_err, label=\"Relative for anomaly grid\")\n",
    "ax.set_ylim(0,15)\n",
    "# Prediction\n",
    "axes[2].set_title(\"Ground Truth\")\n",
    "ax = axes[2]\n",
    "ax.plot(speed, label=\"Speed\")\n",
    "ax.plot(vol, label=\"Volume\")\n",
    "\n",
    "for ax in axes:\n",
    "    ax.legend()\n",
    "    ax.set_xticks(xticks)\n",
    "    ax.set_xticklabels(xticklabels)\n",
    "    ax.grid(\"on\")\n",
    "\n",
    "plt.show()"
   ]
  }
 ],
 "metadata": {
  "kernelspec": {
   "display_name": "Python [conda env:ipa-cpu]",
   "language": "python",
   "name": "conda-env-ipa-cpu-py"
  },
  "language_info": {
   "codemirror_mode": {
    "name": "ipython",
    "version": 3
   },
   "file_extension": ".py",
   "mimetype": "text/x-python",
   "name": "python",
   "nbconvert_exporter": "python",
   "pygments_lexer": "ipython3",
   "version": "3.8.12"
  }
 },
 "nbformat": 4,
 "nbformat_minor": 5
}
