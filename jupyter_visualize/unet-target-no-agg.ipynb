{
 "cells": [
  {
   "cell_type": "code",
   "execution_count": 4,
   "id": "782287ef",
   "metadata": {},
   "outputs": [],
   "source": [
    "import numpy as np\n",
    "import matplotlib.pyplot as plt\n",
    "import os\n",
    "\n",
    "import sys\n",
    "module_path = os.path.abspath(os.path.join('..'))\n",
    "if module_path not in sys.path:\n",
    "    sys.path.append(module_path)\n",
    "from utils import visualize_utils\n"
   ]
  },
  {
   "cell_type": "code",
   "execution_count": 8,
   "id": "351985fe",
   "metadata": {},
   "outputs": [
    {
     "name": "stdout",
     "output_type": "stream",
     "text": [
      "(1, 115, 512, 448)\n"
     ]
    }
   ],
   "source": [
    "log_root = \"../unet/log/attribution_pickle/resUnet\"\n",
    "figure_log_root = \"../unet/log/figures/resUnet\"\n",
    "\n",
    "\n",
    "window = [16, 13]\n",
    "file_path = f\"2019-09-29_berlin_9ch142-saliency-target-channel0-W{window[0]}-{window[1]}.npy\"\n",
    "window_size = 21\n",
    "attr = np.load(os.path.join(log_root, file_path))\n",
    "print(attr.shape)\n",
    "file_format = \"png\"\n"
   ]
  },
  {
   "cell_type": "markdown",
   "id": "2a4a5850",
   "metadata": {},
   "source": [
    "## Aggregate by channel: Which channel contributes a lot in predicting the selected pixel of channel 0 (first time slot, volume of NE)\n"
   ]
  },
  {
   "cell_type": "code",
   "execution_count": 13,
   "id": "bee8b5b6",
   "metadata": {},
   "outputs": [],
   "source": [
    "agg_channel = np.sum(attr[0].reshape(attr[0].shape[0], -1), axis=1)\n",
    "# Incident level per time epoch\n",
    "agg_incident = agg_channel[:108].reshape(12, -1)[:, -1]\n",
    "# Volume / speed per time epoch\n",
    "agg_volume_speed = np.sum(agg_channel[:108].reshape(12, -1)[:, :-1].reshape(12, -1, 2), axis=1)/4\n",
    "# Static features\n",
    "agg_static = agg_channel[108:]"
   ]
  },
  {
   "cell_type": "code",
   "execution_count": 28,
   "id": "cae48e00",
   "metadata": {},
   "outputs": [],
   "source": [
    "# Save as npy array\n",
    "save_arr = np.concatenate((agg_volume_speed, agg_incident[:,None]), axis=1)\n",
    "np.save(\"test.npy\", save_arr)\n",
    "# Save static features\n",
    "np.save(\"static.npy\", agg_static)"
   ]
  },
  {
   "cell_type": "code",
   "execution_count": 26,
   "id": "8df4357b",
   "metadata": {},
   "outputs": [
    {
     "data": {
      "text/plain": [
       "(12, 1)"
      ]
     },
     "execution_count": 26,
     "metadata": {},
     "output_type": "execute_result"
    }
   ],
   "source": [
    "agg_incident[:,None].shape"
   ]
  },
  {
   "cell_type": "code",
   "execution_count": 17,
   "id": "62018099",
   "metadata": {},
   "outputs": [
    {
     "data": {
      "text/plain": [
       "array([[ 31.43058 ,  39.986336],\n",
       "       [ 29.270575,  41.671303],\n",
       "       [ 30.202805,  42.03207 ],\n",
       "       [ 31.092756,  43.86717 ],\n",
       "       [ 32.365734,  45.18937 ],\n",
       "       [ 35.126225,  45.020878],\n",
       "       [ 37.38875 ,  46.050217],\n",
       "       [ 40.845757,  46.716114],\n",
       "       [ 45.198544,  47.17302 ],\n",
       "       [ 54.43602 ,  49.263836],\n",
       "       [ 79.10679 ,  59.065666],\n",
       "       [443.2268  , 283.50507 ]], dtype=float32)"
      ]
     },
     "execution_count": 17,
     "metadata": {},
     "output_type": "execute_result"
    }
   ],
   "source": [
    "agg_volume_speed"
   ]
  },
  {
   "cell_type": "code",
   "execution_count": 11,
   "id": "b63cf107",
   "metadata": {},
   "outputs": [
    {
     "data": {
      "image/png": "[encoded data removed]",
      "text/plain": [
       "<Figure size 432x288 with 1 Axes>"
      ]
     },
     "metadata": {
      "needs_background": "light"
     },
     "output_type": "display_data"
    }
   ],
   "source": [
    "BAR_WIDTH = 0.2\n",
    "x = np.arange(agg_incident.shape[0])\n",
    "plt.bar(x-BAR_WIDTH, height=agg_volume_speed[:,0], label=\"Volume\", width=BAR_WIDTH)\n",
    "plt.bar(x, height=agg_volume_speed[:,1], label=\"Speed\", width=BAR_WIDTH)\n",
    "plt.bar(x+BAR_WIDTH, height=agg_incident, label=\"Incident Level\", width=BAR_WIDTH)\n",
    "plt.ylabel(\"Gradient value\")\n",
    "plt.xlabel(\"Time epoch\")\n",
    "plt.xticks(x)\n",
    "plt.title(\"Attribution aggregated per features\")\n",
    "plt.legend()\n",
    "plt.savefig(os.path.join(figure_log_root, os.path.split(file_path)[-1][:-3] + f\"-attr-features.{file_format}\"),\n",
    "            bbox_inches=\"tight\")\n",
    "plt.show()"
   ]
  },
  {
   "cell_type": "code",
   "execution_count": 12,
   "id": "39828185",
   "metadata": {},
   "outputs": [
    {
     "data": {
      "image/png": "[encoded data removed]",
      "text/plain": [
       "<Figure size 432x288 with 1 Axes>"
      ]
     },
     "metadata": {
      "needs_background": "light"
     },
     "output_type": "display_data"
    }
   ],
   "source": [
    "plt.bar(x=[v for k, v in sorted(visualize_utils.input_static_semantic_dict.items(), key=lambda _:_[0])], height=agg_static)\n",
    "plt.ylabel(\"Gradient value\")\n",
    "plt.xlabel(\"Static features\")\n",
    "plt.savefig(os.path.join(figure_log_root, os.path.split(file_path)[-1][:-3] + f\"-attr-static.{file_format}\"),\n",
    "            bbox_inches=\"tight\")\n",
    "plt.title(\"Attribution per static feature\")\n",
    "plt.show()"
   ]
  }
 ],
 "metadata": {
  "kernelspec": {
   "display_name": "ipa-cpu",
   "language": "python",
   "name": "ipa-cpu"
  },
  "language_info": {
   "codemirror_mode": {
    "name": "ipython",
    "version": 3
   },
   "file_extension": ".py",
   "mimetype": "text/x-python",
   "name": "python",
   "nbconvert_exporter": "python",
   "pygments_lexer": "ipython3",
   "version": "3.8.12"
  }
 },
 "nbformat": 4,
 "nbformat_minor": 5
}
